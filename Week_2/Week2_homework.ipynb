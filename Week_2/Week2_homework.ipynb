{
 "cells": [
  {
   "cell_type": "code",
   "execution_count": 1,
   "id": "bfe59d97",
   "metadata": {},
   "outputs": [
    {
     "name": "stdout",
     "output_type": "stream",
     "text": [
      "mlflow, version 2.3.2\n"
     ]
    }
   ],
   "source": [
    "!mlflow --version"
   ]
  },
  {
   "cell_type": "code",
   "execution_count": 2,
   "id": "d386c28b",
   "metadata": {},
   "outputs": [],
   "source": [
    "!python preprocess_data.py --raw_data_path ./data2 --dest_path ./output2"
   ]
  },
  {
   "cell_type": "code",
   "execution_count": 3,
   "id": "68455b4f",
   "metadata": {},
   "outputs": [
    {
     "name": "stdout",
     "output_type": "stream",
     "text": [
      "The size of the file is approximately: 150.06 KB\n"
     ]
    }
   ],
   "source": [
    "# The size of the saved DictVectorizer file, dv.pkl is 151KB\n",
    "\n",
    "import os\n",
    "\n",
    "file_path = \"./output2/dv.pkl\"\n",
    "file_size = os.path.getsize(file_path)\n",
    "\n",
    "size_in_kb = file_size / 1024\n",
    "\n",
    "print(f\"The size of the file is approximately: {size_in_kb:.2f} KB\")"
   ]
  },
  {
   "cell_type": "code",
   "execution_count": 5,
   "id": "8cc85cac",
   "metadata": {},
   "outputs": [
    {
     "name": "stderr",
     "output_type": "stream",
     "text": [
      "2023/06/05 07:05:23 WARNING mlflow.utils.autologging_utils: MLflow autologging encountered a warning: \"C:\\Users\\Dell\\AppData\\Local\\Programs\\Python\\Python311\\Lib\\site-packages\\_distutils_hack\\__init__.py:33: UserWarning: Setuptools is replacing distutils.\"\n"
     ]
    }
   ],
   "source": [
    "!python train.py --data_path ./output2"
   ]
  },
  {
   "cell_type": "code",
   "execution_count": 7,
   "id": "5596c1ac",
   "metadata": {},
   "outputs": [
    {
     "data": {
      "text/plain": [
       "[<Experiment: artifact_location='mlflow-artifacts:/8', creation_time=1685919167581, experiment_id='8', last_update_time=1685919167581, lifecycle_stage='active', name='green_taxi_experiment', tags={}>,\n",
       " <Experiment: artifact_location='mlflow-artifacts:/7', creation_time=1685911786349, experiment_id='7', last_update_time=1685911786349, lifecycle_stage='active', name='random-forest-best-models', tags={}>,\n",
       " <Experiment: artifact_location='file:///C:/Users/Dell/Documents/Jupyter/MLOps/Week1/mlruns/6', creation_time=1685910281378, experiment_id='6', last_update_time=1685910281378, lifecycle_stage='active', name='random-forest-hyperopt', tags={}>,\n",
       " <Experiment: artifact_location='file:///C:/Users/Dell/Documents/Jupyter/MLOps/Week1/mlruns/5', creation_time=1685644905774, experiment_id='5', last_update_time=1685644905774, lifecycle_stage='active', name='nyc_taxi_experiment2', tags={}>,\n",
       " <Experiment: artifact_location='file:///C:/Users/Dell/Documents/Jupyter/MLOps/Week1/mlruns/4', creation_time=1685644271608, experiment_id='4', last_update_time=1685644271608, lifecycle_stage='active', name='nyc_taxi_experiment1', tags={}>,\n",
       " <Experiment: artifact_location='mlflow-artifacts:/0', creation_time=1685638459609, experiment_id='0', last_update_time=1685638459609, lifecycle_stage='active', name='Default', tags={}>]"
      ]
     },
     "execution_count": 7,
     "metadata": {},
     "output_type": "execute_result"
    }
   ],
   "source": [
    "from mlflow.tracking import MlflowClient\n",
    "\n",
    "TRACKING_URI = \"http://127.0.0.1:5000\"\n",
    "\n",
    "client = MlflowClient(tracking_uri=TRACKING_URI)\n",
    "client.search_experiments()"
   ]
  },
  {
   "cell_type": "code",
   "execution_count": 8,
   "id": "8da17422",
   "metadata": {},
   "outputs": [
    {
     "data": {
      "text/plain": [
       "[<Run: data=<RunData: metrics={'rmse': 2.453983836538874,\n",
       "  'training_mean_absolute_error': 1.4846553814437824,\n",
       "  'training_mean_squared_error': 3.785599387209934,\n",
       "  'training_r2_score': 0.2905920668431764,\n",
       "  'training_root_mean_squared_error': 1.9456616836464489,\n",
       "  'training_score': 0.2905920668431764}, params={'bootstrap': 'True',\n",
       "  'ccp_alpha': '0.0',\n",
       "  'criterion': 'squared_error',\n",
       "  'max_depth': '10',\n",
       "  'max_features': '1.0',\n",
       "  'max_leaf_nodes': 'None',\n",
       "  'max_samples': 'None',\n",
       "  'min_impurity_decrease': '0.0',\n",
       "  'min_samples_leaf': '1',\n",
       "  'min_samples_split': '2',\n",
       "  'min_weight_fraction_leaf': '0.0',\n",
       "  'n_estimators': '100',\n",
       "  'n_jobs': 'None',\n",
       "  'oob_score': 'False',\n",
       "  'random_state': '0',\n",
       "  'verbose': '0',\n",
       "  'warm_start': 'False'}, tags={'estimator_class': 'sklearn.ensemble._forest.RandomForestRegressor',\n",
       "  'estimator_name': 'RandomForestRegressor',\n",
       "  'mlflow.log-model.history': '[{\"run_id\": \"553348b6c3bc482e82e4e088de5bf7b1\", '\n",
       "                              '\"artifact_path\": \"model\", \"utc_time_created\": '\n",
       "                              '\"2023-06-04 23:05:19.462790\", \"flavors\": '\n",
       "                              '{\"python_function\": {\"model_path\": \"model.pkl\", '\n",
       "                              '\"predict_fn\": \"predict\", \"loader_module\": '\n",
       "                              '\"mlflow.sklearn\", \"python_version\": \"3.11.3\", '\n",
       "                              '\"env\": {\"conda\": \"conda.yaml\", \"virtualenv\": '\n",
       "                              '\"python_env.yaml\"}}, \"sklearn\": '\n",
       "                              '{\"pickled_model\": \"model.pkl\", '\n",
       "                              '\"sklearn_version\": \"1.2.2\", '\n",
       "                              '\"serialization_format\": \"cloudpickle\", \"code\": '\n",
       "                              'null}}, \"model_uuid\": '\n",
       "                              '\"6d749a8a749a49609b814fb6db7de0f7\", '\n",
       "                              '\"mlflow_version\": \"2.3.2\", \"signature\": '\n",
       "                              '{\"inputs\": \"[{\\\\\"type\\\\\": \\\\\"tensor\\\\\", '\n",
       "                              '\\\\\"tensor-spec\\\\\": {\\\\\"dtype\\\\\": \\\\\"float64\\\\\", '\n",
       "                              '\\\\\"shape\\\\\": [-1, 6683]}}]\", \"outputs\": '\n",
       "                              '\"[{\\\\\"type\\\\\": \\\\\"tensor\\\\\", \\\\\"tensor-spec\\\\\": '\n",
       "                              '{\\\\\"dtype\\\\\": \\\\\"float64\\\\\", \\\\\"shape\\\\\": '\n",
       "                              '[-1]}}]\"}}]',\n",
       "  'mlflow.runName': 'gaudy-goose-891',\n",
       "  'mlflow.source.name': 'train.py',\n",
       "  'mlflow.source.type': 'LOCAL',\n",
       "  'mlflow.user': 'Dell'}>, info=<RunInfo: artifact_uri='mlflow-artifacts:/8/553348b6c3bc482e82e4e088de5bf7b1/artifacts', end_time=1685919924284, experiment_id='8', lifecycle_stage='active', run_id='553348b6c3bc482e82e4e088de5bf7b1', run_name='gaudy-goose-891', run_uuid='553348b6c3bc482e82e4e088de5bf7b1', start_time=1685919907047, status='FINISHED', user_id='Dell'>>,\n",
       " <Run: data=<RunData: metrics={'rmse': 2.453983836538874}, params={'bootstrap': 'True',\n",
       "  'ccp_alpha': '0.0',\n",
       "  'criterion': 'squared_error',\n",
       "  'max_depth': '10',\n",
       "  'max_features': '1.0',\n",
       "  'max_leaf_nodes': 'None',\n",
       "  'max_samples': 'None',\n",
       "  'min_impurity_decrease': '0.0',\n",
       "  'min_samples_leaf': '1',\n",
       "  'min_samples_split': '2',\n",
       "  'min_weight_fraction_leaf': '0.0',\n",
       "  'n_estimators': '100',\n",
       "  'n_jobs': 'None',\n",
       "  'oob_score': 'False',\n",
       "  'random_state': '0',\n",
       "  'verbose': '0',\n",
       "  'warm_start': 'False'}, tags={'estimator_class': 'sklearn.ensemble._forest.RandomForestRegressor',\n",
       "  'estimator_name': 'RandomForestRegressor',\n",
       "  'mlflow.runName': 'indecisive-horse-988',\n",
       "  'mlflow.source.name': 'train.py',\n",
       "  'mlflow.source.type': 'LOCAL',\n",
       "  'mlflow.user': 'Dell'}>, info=<RunInfo: artifact_uri='mlflow-artifacts:/8/3d7605098fe44730be22ecd4d29ffc1d/artifacts', end_time=1685919702793, experiment_id='8', lifecycle_stage='active', run_id='3d7605098fe44730be22ecd4d29ffc1d', run_name='indecisive-horse-988', run_uuid='3d7605098fe44730be22ecd4d29ffc1d', start_time=1685919689917, status='FINISHED', user_id='Dell'>>]"
      ]
     },
     "execution_count": 8,
     "metadata": {},
     "output_type": "execute_result"
    }
   ],
   "source": [
    "client.search_runs(experiment_ids=8)\n",
    "# Shown that the value of the max_depth parameter is 10"
   ]
  },
  {
   "cell_type": "markdown",
   "id": "223c340f",
   "metadata": {},
   "source": [
    "#### Answer\n",
    "> The value of the max_depth parameter: **10**"
   ]
  },
  {
   "cell_type": "code",
   "execution_count": 10,
   "id": "f94c8c63",
   "metadata": {},
   "outputs": [
    {
     "name": "stdout",
     "output_type": "stream",
     "text": [
      "Best Hyperparameters: {'n_estimators': 33, 'max_depth': 20, 'min_samples_split': 4, 'min_samples_leaf': 2}\n",
      "Best RMSE: 2.447425577156323\n"
     ]
    },
    {
     "name": "stderr",
     "output_type": "stream",
     "text": [
      "[I 2023-06-05 07:19:41,821] A new study created in memory with name: no-name-485d0f25-7c28-41a7-90db-17fc7a39904b\n",
      "[I 2023-06-05 07:19:43,769] Trial 0 finished with value: 2.451379690825458 and parameters: {'n_estimators': 25, 'max_depth': 20, 'min_samples_split': 8, 'min_samples_leaf': 3}. Best is trial 0 with value: 2.451379690825458.\n",
      "[I 2023-06-05 07:19:44,042] Trial 1 finished with value: 2.4667366020368333 and parameters: {'n_estimators': 16, 'max_depth': 4, 'min_samples_split': 2, 'min_samples_leaf': 4}. Best is trial 0 with value: 2.451379690825458.\n",
      "[I 2023-06-05 07:19:45,808] Trial 2 finished with value: 2.449827329704216 and parameters: {'n_estimators': 34, 'max_depth': 15, 'min_samples_split': 2, 'min_samples_leaf': 4}. Best is trial 2 with value: 2.449827329704216.\n",
      "[I 2023-06-05 07:19:46,438] Trial 3 finished with value: 2.460983516558473 and parameters: {'n_estimators': 44, 'max_depth': 5, 'min_samples_split': 3, 'min_samples_leaf': 1}. Best is trial 2 with value: 2.449827329704216.\n",
      "[I 2023-06-05 07:19:47,261] Trial 4 finished with value: 2.453877262701052 and parameters: {'n_estimators': 22, 'max_depth': 11, 'min_samples_split': 5, 'min_samples_leaf': 2}. Best is trial 2 with value: 2.449827329704216.\n",
      "[I 2023-06-05 07:19:47,642] Trial 5 finished with value: 2.4720122094960733 and parameters: {'n_estimators': 35, 'max_depth': 3, 'min_samples_split': 4, 'min_samples_leaf': 2}. Best is trial 2 with value: 2.449827329704216.\n",
      "[I 2023-06-05 07:19:49,253] Trial 6 finished with value: 2.4516421799356767 and parameters: {'n_estimators': 28, 'max_depth': 16, 'min_samples_split': 3, 'min_samples_leaf': 3}. Best is trial 2 with value: 2.449827329704216.\n",
      "[I 2023-06-05 07:19:49,460] Trial 7 finished with value: 2.5374040268274087 and parameters: {'n_estimators': 34, 'max_depth': 1, 'min_samples_split': 7, 'min_samples_leaf': 1}. Best is trial 2 with value: 2.449827329704216.\n",
      "[I 2023-06-05 07:19:50,386] Trial 8 finished with value: 2.455971238567075 and parameters: {'n_estimators': 12, 'max_depth': 19, 'min_samples_split': 10, 'min_samples_leaf': 4}. Best is trial 2 with value: 2.449827329704216.\n",
      "[I 2023-06-05 07:19:50,605] Trial 9 finished with value: 2.486106021576535 and parameters: {'n_estimators': 22, 'max_depth': 2, 'min_samples_split': 8, 'min_samples_leaf': 2}. Best is trial 2 with value: 2.449827329704216.\n",
      "[I 2023-06-05 07:19:52,633] Trial 10 finished with value: 2.4497696580446124 and parameters: {'n_estimators': 49, 'max_depth': 12, 'min_samples_split': 6, 'min_samples_leaf': 4}. Best is trial 10 with value: 2.4497696580446124.\n",
      "[I 2023-06-05 07:19:54,645] Trial 11 finished with value: 2.4497696580446124 and parameters: {'n_estimators': 49, 'max_depth': 12, 'min_samples_split': 6, 'min_samples_leaf': 4}. Best is trial 10 with value: 2.4497696580446124.\n",
      "[I 2023-06-05 07:19:56,062] Trial 12 finished with value: 2.4531265183424145 and parameters: {'n_estimators': 49, 'max_depth': 9, 'min_samples_split': 6, 'min_samples_leaf': 3}. Best is trial 10 with value: 2.4497696580446124.\n",
      "[I 2023-06-05 07:19:57,701] Trial 13 finished with value: 2.450485405368121 and parameters: {'n_estimators': 43, 'max_depth': 11, 'min_samples_split': 6, 'min_samples_leaf': 4}. Best is trial 10 with value: 2.4497696580446124.\n",
      "[I 2023-06-05 07:19:58,957] Trial 14 finished with value: 2.4535582073605116 and parameters: {'n_estimators': 50, 'max_depth': 8, 'min_samples_split': 5, 'min_samples_leaf': 4}. Best is trial 10 with value: 2.4497696580446124.\n",
      "[I 2023-06-05 07:20:00,997] Trial 15 finished with value: 2.4496808026747887 and parameters: {'n_estimators': 42, 'max_depth': 14, 'min_samples_split': 8, 'min_samples_leaf': 3}. Best is trial 15 with value: 2.4496808026747887.\n",
      "[I 2023-06-05 07:20:03,083] Trial 16 finished with value: 2.4483015395890604 and parameters: {'n_estimators': 41, 'max_depth': 15, 'min_samples_split': 10, 'min_samples_leaf': 3}. Best is trial 16 with value: 2.4483015395890604.\n",
      "[I 2023-06-05 07:20:05,226] Trial 17 finished with value: 2.4486418167590744 and parameters: {'n_estimators': 39, 'max_depth': 16, 'min_samples_split': 10, 'min_samples_leaf': 3}. Best is trial 16 with value: 2.4483015395890604.\n",
      "[I 2023-06-05 07:20:07,497] Trial 18 finished with value: 2.4481922194920993 and parameters: {'n_estimators': 40, 'max_depth': 17, 'min_samples_split': 10, 'min_samples_leaf': 3}. Best is trial 18 with value: 2.4481922194920993.\n",
      "[I 2023-06-05 07:20:09,820] Trial 19 finished with value: 2.4500364925375564 and parameters: {'n_estimators': 38, 'max_depth': 18, 'min_samples_split': 9, 'min_samples_leaf': 2}. Best is trial 18 with value: 2.4481922194920993.\n",
      "[I 2023-06-05 07:20:11,751] Trial 20 finished with value: 2.449719774427233 and parameters: {'n_estimators': 31, 'max_depth': 17, 'min_samples_split': 9, 'min_samples_leaf': 3}. Best is trial 18 with value: 2.4481922194920993.\n",
      "[I 2023-06-05 07:20:13,563] Trial 21 finished with value: 2.449579039488319 and parameters: {'n_estimators': 39, 'max_depth': 14, 'min_samples_split': 10, 'min_samples_leaf': 3}. Best is trial 18 with value: 2.4481922194920993.\n",
      "[I 2023-06-05 07:20:16,014] Trial 22 finished with value: 2.4489805963388025 and parameters: {'n_estimators': 38, 'max_depth': 17, 'min_samples_split': 10, 'min_samples_leaf': 3}. Best is trial 18 with value: 2.4481922194920993.\n",
      "[I 2023-06-05 07:20:18,211] Trial 23 finished with value: 2.4490622201033947 and parameters: {'n_estimators': 45, 'max_depth': 14, 'min_samples_split': 9, 'min_samples_leaf': 3}. Best is trial 18 with value: 2.4481922194920993.\n",
      "[I 2023-06-05 07:20:20,908] Trial 24 finished with value: 2.4474858550002363 and parameters: {'n_estimators': 41, 'max_depth': 20, 'min_samples_split': 10, 'min_samples_leaf': 2}. Best is trial 24 with value: 2.4474858550002363.\n",
      "[I 2023-06-05 07:20:24,035] Trial 25 finished with value: 2.447893177195881 and parameters: {'n_estimators': 46, 'max_depth': 20, 'min_samples_split': 9, 'min_samples_leaf': 2}. Best is trial 24 with value: 2.4474858550002363.\n",
      "[I 2023-06-05 07:20:27,104] Trial 26 finished with value: 2.447893177195881 and parameters: {'n_estimators': 46, 'max_depth': 20, 'min_samples_split': 9, 'min_samples_leaf': 2}. Best is trial 24 with value: 2.4474858550002363.\n",
      "[I 2023-06-05 07:20:29,870] Trial 27 finished with value: 2.456583994538892 and parameters: {'n_estimators': 46, 'max_depth': 20, 'min_samples_split': 9, 'min_samples_leaf': 1}. Best is trial 24 with value: 2.4474858550002363.\n",
      "[I 2023-06-05 07:20:32,980] Trial 28 finished with value: 2.4498632720226943 and parameters: {'n_estimators': 47, 'max_depth': 19, 'min_samples_split': 7, 'min_samples_leaf': 2}. Best is trial 24 with value: 2.4474858550002363.\n",
      "[I 2023-06-05 07:20:36,402] Trial 29 finished with value: 2.4486777167240295 and parameters: {'n_estimators': 46, 'max_depth': 20, 'min_samples_split': 8, 'min_samples_leaf': 2}. Best is trial 24 with value: 2.4474858550002363.\n",
      "[I 2023-06-05 07:20:38,853] Trial 30 finished with value: 2.46026783312097 and parameters: {'n_estimators': 36, 'max_depth': 20, 'min_samples_split': 8, 'min_samples_leaf': 1}. Best is trial 24 with value: 2.4474858550002363.\n",
      "[I 2023-06-05 07:20:41,422] Trial 31 finished with value: 2.449051492077562 and parameters: {'n_estimators': 42, 'max_depth': 18, 'min_samples_split': 9, 'min_samples_leaf': 2}. Best is trial 24 with value: 2.4474858550002363.\n",
      "[I 2023-06-05 07:20:43,930] Trial 32 finished with value: 2.4491432117504917 and parameters: {'n_estimators': 41, 'max_depth': 18, 'min_samples_split': 9, 'min_samples_leaf': 2}. Best is trial 24 with value: 2.4474858550002363.\n",
      "[I 2023-06-05 07:20:46,885] Trial 33 finished with value: 2.447432946026728 and parameters: {'n_estimators': 46, 'max_depth': 19, 'min_samples_split': 10, 'min_samples_leaf': 2}. Best is trial 33 with value: 2.447432946026728.\n",
      "[I 2023-06-05 07:20:50,018] Trial 34 finished with value: 2.4498632720226943 and parameters: {'n_estimators': 47, 'max_depth': 19, 'min_samples_split': 7, 'min_samples_leaf': 2}. Best is trial 33 with value: 2.447432946026728.\n",
      "[I 2023-06-05 07:20:52,860] Trial 35 finished with value: 2.4573674348386536 and parameters: {'n_estimators': 44, 'max_depth': 20, 'min_samples_split': 8, 'min_samples_leaf': 1}. Best is trial 33 with value: 2.447432946026728.\n",
      "[I 2023-06-05 07:20:53,389] Trial 36 finished with value: 2.4635909322607854 and parameters: {'n_estimators': 31, 'max_depth': 5, 'min_samples_split': 10, 'min_samples_leaf': 2}. Best is trial 33 with value: 2.447432946026728.\n",
      "[I 2023-06-05 07:20:56,438] Trial 37 finished with value: 2.4480862877660146 and parameters: {'n_estimators': 47, 'max_depth': 19, 'min_samples_split': 9, 'min_samples_leaf': 2}. Best is trial 33 with value: 2.447432946026728.\n",
      "[I 2023-06-05 07:20:58,597] Trial 38 finished with value: 2.4579999002250243 and parameters: {'n_estimators': 44, 'max_depth': 16, 'min_samples_split': 10, 'min_samples_leaf': 1}. Best is trial 33 with value: 2.447432946026728.\n",
      "[I 2023-06-05 07:21:00,128] Trial 39 finished with value: 2.4553320738896702 and parameters: {'n_estimators': 24, 'max_depth': 18, 'min_samples_split': 7, 'min_samples_leaf': 2}. Best is trial 33 with value: 2.447432946026728.\n",
      "[I 2023-06-05 07:21:02,568] Trial 40 finished with value: 2.449865262720374 and parameters: {'n_estimators': 36, 'max_depth': 20, 'min_samples_split': 9, 'min_samples_leaf': 2}. Best is trial 33 with value: 2.447432946026728.\n",
      "[I 2023-06-05 07:21:05,877] Trial 41 finished with value: 2.4476824253175096 and parameters: {'n_estimators': 50, 'max_depth': 19, 'min_samples_split': 9, 'min_samples_leaf': 2}. Best is trial 33 with value: 2.447432946026728.\n",
      "[I 2023-06-05 07:21:09,037] Trial 42 finished with value: 2.448869954837328 and parameters: {'n_estimators': 48, 'max_depth': 19, 'min_samples_split': 8, 'min_samples_leaf': 2}. Best is trial 33 with value: 2.447432946026728.\n",
      "[I 2023-06-05 07:21:11,889] Trial 43 finished with value: 2.4479338588229647 and parameters: {'n_estimators': 50, 'max_depth': 17, 'min_samples_split': 10, 'min_samples_leaf': 2}. Best is trial 33 with value: 2.447432946026728.\n",
      "[I 2023-06-05 07:21:14,825] Trial 44 finished with value: 2.448357966436717 and parameters: {'n_estimators': 45, 'max_depth': 19, 'min_samples_split': 9, 'min_samples_leaf': 2}. Best is trial 33 with value: 2.447432946026728.\n",
      "[I 2023-06-05 07:21:15,341] Trial 45 finished with value: 2.4580799331699077 and parameters: {'n_estimators': 19, 'max_depth': 7, 'min_samples_split': 2, 'min_samples_leaf': 1}. Best is trial 33 with value: 2.447432946026728.\n",
      "[I 2023-06-05 07:21:17,798] Trial 46 finished with value: 2.448815208598209 and parameters: {'n_estimators': 50, 'max_depth': 15, 'min_samples_split': 10, 'min_samples_leaf': 2}. Best is trial 33 with value: 2.447432946026728.\n",
      "[I 2023-06-05 07:21:20,663] Trial 47 finished with value: 2.449406988079218 and parameters: {'n_estimators': 43, 'max_depth': 18, 'min_samples_split': 8, 'min_samples_leaf': 2}. Best is trial 33 with value: 2.447432946026728.\n",
      "[I 2023-06-05 07:21:23,448] Trial 48 finished with value: 2.447425577156323 and parameters: {'n_estimators': 33, 'max_depth': 20, 'min_samples_split': 4, 'min_samples_leaf': 2}. Best is trial 48 with value: 2.447425577156323.\n",
      "[I 2023-06-05 07:21:25,053] Trial 49 finished with value: 2.4571090187235733 and parameters: {'n_estimators': 28, 'max_depth': 16, 'min_samples_split': 4, 'min_samples_leaf': 1}. Best is trial 48 with value: 2.447425577156323.\n"
     ]
    }
   ],
   "source": [
    "!python hpo.py --data_path ./output2 --num_trials 50"
   ]
  },
  {
   "cell_type": "code",
   "execution_count": 12,
   "id": "7addf2c8",
   "metadata": {},
   "outputs": [
    {
     "data": {
      "text/plain": [
       "[<Experiment: artifact_location='mlflow-artifacts:/9', creation_time=1685920581917, experiment_id='9', last_update_time=1685920581917, lifecycle_stage='active', name='random-forest-hyperopt', tags={}>,\n",
       " <Experiment: artifact_location='mlflow-artifacts:/8', creation_time=1685919167581, experiment_id='8', last_update_time=1685919167581, lifecycle_stage='active', name='green_taxi_experiment', tags={}>,\n",
       " <Experiment: artifact_location='mlflow-artifacts:/7', creation_time=1685911786349, experiment_id='7', last_update_time=1685911786349, lifecycle_stage='active', name='random-forest-best-models', tags={}>,\n",
       " <Experiment: artifact_location='file:///C:/Users/Dell/Documents/Jupyter/MLOps/Week1/mlruns/6', creation_time=1685910281378, experiment_id='6', last_update_time=1685920574253, lifecycle_stage='active', name='random-forest-hyperopt_1', tags={}>,\n",
       " <Experiment: artifact_location='file:///C:/Users/Dell/Documents/Jupyter/MLOps/Week1/mlruns/5', creation_time=1685644905774, experiment_id='5', last_update_time=1685644905774, lifecycle_stage='active', name='nyc_taxi_experiment2', tags={}>,\n",
       " <Experiment: artifact_location='file:///C:/Users/Dell/Documents/Jupyter/MLOps/Week1/mlruns/4', creation_time=1685644271608, experiment_id='4', last_update_time=1685644271608, lifecycle_stage='active', name='nyc_taxi_experiment1', tags={}>,\n",
       " <Experiment: artifact_location='mlflow-artifacts:/0', creation_time=1685638459609, experiment_id='0', last_update_time=1685638459609, lifecycle_stage='active', name='Default', tags={}>]"
      ]
     },
     "execution_count": 12,
     "metadata": {},
     "output_type": "execute_result"
    }
   ],
   "source": [
    "from mlflow.tracking import MlflowClient\n",
    "\n",
    "TRACKING_URI = \"http://127.0.0.1:5000\"\n",
    "\n",
    "client = MlflowClient(tracking_uri=TRACKING_URI)\n",
    "client.search_experiments()"
   ]
  },
  {
   "cell_type": "code",
   "execution_count": 13,
   "id": "34e35e7d",
   "metadata": {},
   "outputs": [
    {
     "name": "stdout",
     "output_type": "stream",
     "text": [
      "run id: 7424283ddf78416993d11cb678bbc308, rmse: 2.4474\n",
      "run id: bb236720130344f0a8dcdffc1eba33cf, rmse: 2.4474\n",
      "run id: d6cf69ffee36414b8bf915499c7ce8cd, rmse: 2.4475\n"
     ]
    }
   ],
   "source": [
    "best_runs = client.search_runs(\n",
    "    experiment_ids=9,\n",
    "    filter_string=\"\",\n",
    "    max_results=3,\n",
    "    order_by=[\"metrics.rmse ASC\"]\n",
    ")\n",
    "\n",
    "for run in best_runs:\n",
    "    print(f\"run id: {run.info.run_id}, rmse: {run.data.metrics['rmse']:.4f}\")"
   ]
  },
  {
   "cell_type": "markdown",
   "id": "fe745c3d",
   "metadata": {},
   "source": [
    "#### Answer\n",
    "> Best Validation RMSE: **2.4474**"
   ]
  },
  {
   "cell_type": "code",
   "execution_count": 15,
   "id": "32c1a17b",
   "metadata": {},
   "outputs": [
    {
     "name": "stderr",
     "output_type": "stream",
     "text": [
      "2023/06/05 07:36:08 WARNING mlflow.utils.autologging_utils: MLflow autologging encountered a warning: \"C:\\Users\\Dell\\AppData\\Local\\Programs\\Python\\Python311\\Lib\\site-packages\\_distutils_hack\\__init__.py:33: UserWarning: Setuptools is replacing distutils.\"\n",
      "Registered model 'greentaxi_regressor' already exists. Creating a new version of this model...\n",
      "2023/06/05 07:36:31 INFO mlflow.tracking._model_registry.client: Waiting up to 300 seconds for model version to finish creation. Model name: greentaxi_regressor, version 2\n",
      "Created version '2' of model 'greentaxi_regressor'.\n"
     ]
    }
   ],
   "source": [
    "!python register_model.py --data_path ./output2 --top_n 5"
   ]
  },
  {
   "cell_type": "code",
   "execution_count": 16,
   "id": "9b718873",
   "metadata": {},
   "outputs": [
    {
     "name": "stdout",
     "output_type": "stream",
     "text": [
      "Version 2 Test RMSE: 2.29\n"
     ]
    }
   ],
   "source": [
    "from mlflow.entities import ViewType\n",
    "from mlflow.tracking import MlflowClient\n",
    "\n",
    "mlflow.set_tracking_uri(\"http://127.0.0.1:5000\")\n",
    "client = MlflowClient()\n",
    "\n",
    "# get run_id from version 2 of 'greentaxi_regressor'\n",
    "\n",
    "version_2_run_id = client.get_model_version(name = \"greentaxi_regressor\", version = 2).run_id\n",
    "run_ver2 = client.get_run(run_id=version_2_run_id)\n",
    "\n",
    "print(f\"Version 2 Test RMSE: {round(run_ver2.data.metrics['test_rmse'],2)}\")"
   ]
  },
  {
   "cell_type": "code",
   "execution_count": null,
   "id": "814328bf",
   "metadata": {},
   "outputs": [],
   "source": []
  }
 ],
 "metadata": {
  "kernelspec": {
   "display_name": "MY_ENV",
   "language": "python",
   "name": "my_env"
  },
  "language_info": {
   "codemirror_mode": {
    "name": "ipython",
    "version": 3
   },
   "file_extension": ".py",
   "mimetype": "text/x-python",
   "name": "python",
   "nbconvert_exporter": "python",
   "pygments_lexer": "ipython3",
   "version": "3.11.3"
  }
 },
 "nbformat": 4,
 "nbformat_minor": 5
}
